{
  "nbformat": 4,
  "nbformat_minor": 0,
  "metadata": {
    "colab": {
      "provenance": [],
      "authorship_tag": "ABX9TyMZCurq9V7V93V9P5QUcdBw",
      "include_colab_link": true
    },
    "kernelspec": {
      "name": "python3",
      "display_name": "Python 3"
    },
    "language_info": {
      "name": "python"
    }
  },
  "cells": [
    {
      "cell_type": "markdown",
      "metadata": {
        "id": "view-in-github",
        "colab_type": "text"
      },
      "source": [
        "<a href=\"https://colab.research.google.com/github/Zatsepindm/Python_tasks/blob/main/OneHotEncoding.ipynb\" target=\"_parent\"><img src=\"https://colab.research.google.com/assets/colab-badge.svg\" alt=\"Open In Colab\"/></a>"
      ]
    },
    {
      "cell_type": "code",
      "execution_count": null,
      "metadata": {
        "colab": {
          "base_uri": "https://localhost:8080/"
        },
        "id": "A3nm50mMOtPR",
        "outputId": "355d3b53-32d8-4127-8fff-ebc51b43f519"
      },
      "outputs": [
        {
          "output_type": "stream",
          "name": "stdout",
          "text": [
            "   whoAmI\n",
            "0   human\n",
            "1   robot\n",
            "2   human\n",
            "3   robot\n",
            "4   robot\n",
            "5   human\n",
            "6   human\n",
            "7   human\n",
            "8   robot\n",
            "9   human\n",
            "10  human\n",
            "11  robot\n",
            "12  robot\n",
            "13  robot\n",
            "14  robot\n",
            "15  human\n",
            "16  robot\n",
            "17  human\n",
            "18  robot\n",
            "19  human\n",
            "\n",
            "   whoAmI  digit1  digit2\n",
            "0   human     1.0     0.0\n",
            "1   robot     0.0     1.0\n",
            "2   human     1.0     0.0\n",
            "3   robot     0.0     1.0\n",
            "4   robot     0.0     1.0\n",
            "5   human     1.0     0.0\n",
            "6   human     1.0     0.0\n",
            "7   human     1.0     0.0\n",
            "8   robot     0.0     1.0\n",
            "9   human     1.0     0.0\n",
            "10  human     1.0     0.0\n",
            "11  robot     0.0     1.0\n",
            "12  robot     0.0     1.0\n",
            "13  robot     0.0     1.0\n",
            "14  robot     0.0     1.0\n",
            "15  human     1.0     0.0\n",
            "16  robot     0.0     1.0\n",
            "17  human     1.0     0.0\n",
            "18  robot     0.0     1.0\n",
            "19  human     1.0     0.0\n"
          ]
        }
      ],
      "source": [
        "import random\n",
        "import pandas as pd\n",
        "from sklearn.preprocessing import OneHotEncoder\n",
        "lst = ['robot'] * 10\n",
        "lst += ['human'] * 10\n",
        "random.shuffle(lst)\n",
        "data = pd.DataFrame({'whoAmI':lst})\n",
        "print(data)\n",
        "encoder = OneHotEncoder()\n",
        "encoded_data = pd.DataFrame(encoder.fit_transform(data[['whoAmI']]).toarray())\n",
        "final_data = data.join(encoded_data)\n",
        "final_data.columns = ['whoAmI', 'digit1', 'digit2']\n",
        "print()\n",
        "print(final_data)\n",
        "\n",
        "\n"
      ]
    }
  ]
}